{
  "nbformat": 4,
  "nbformat_minor": 0,
  "metadata": {
    "colab": {
      "provenance": [],
      "toc_visible": true
    },
    "kernelspec": {
      "name": "python3",
      "display_name": "Python 3"
    },
    "language_info": {
      "name": "python"
    }
  },
  "cells": [
    {
      "cell_type": "markdown",
      "metadata": {
        "id": "J2l_GrY3CymP"
      },
      "source": [
        "# Demilitarization Degree Prediction - Data Cleaning and Modeling\n",
        "## Nancy Hamdan"
      ]
    },
    {
      "cell_type": "code",
      "metadata": {
        "id": "IMHyJxXTCub5"
      },
      "source": [
        "import pandas as pd\n",
        "import numpy as np\n",
        "import matplotlib.pyplot as plt\n",
        "import seaborn as sns"
      ],
      "execution_count": null,
      "outputs": []
    },
    {
      "cell_type": "markdown",
      "metadata": {
        "id": "eT_hGrkXDLIU"
      },
      "source": [
        "<a id=\"getting-data\"></a>\n",
        "# Getting the Data"
      ]
    },
    {
      "cell_type": "code",
      "metadata": {
        "id": "Pr6wL8khIywq"
      },
      "source": [
        "xls = pd.ExcelFile('AllStatesAndTerritoriesQTR4FY21.xlsx', engine='openpyxl')"
      ],
      "execution_count": null,
      "outputs": []
    },
    {
      "cell_type": "code",
      "metadata": {
        "id": "zy1gF6iKJxLL"
      },
      "source": [
        "data = pd.DataFrame()"
      ],
      "execution_count": null,
      "outputs": []
    },
    {
      "cell_type": "code",
      "metadata": {
        "id": "qFK_y61NJvtD"
      },
      "source": [
        "for name in xls.sheet_names:\n",
        "    data = pd.concat([data, xls.parse(name)])"
      ],
      "execution_count": null,
      "outputs": []
    },
    {
      "cell_type": "code",
      "metadata": {
        "colab": {
          "base_uri": "https://localhost:8080/",
          "height": 206
        },
        "id": "eYFgYqV4J_6M",
        "outputId": "c5de98ca-bf5c-4564-ff77-7558efe7170d"
      },
      "source": [
        "data.head()"
      ],
      "execution_count": null,
      "outputs": [
        {
          "output_type": "execute_result",
          "data": {
            "text/plain": [
              "  State            Agency Name               NSN  \\\n",
              "0    AL  ABBEVILLE POLICE DEPT  2540-01-565-4700   \n",
              "1    AL  ABBEVILLE POLICE DEPT  1240-DS-OPT-SIGH   \n",
              "2    AL  ABBEVILLE POLICE DEPT  2355-01-553-4634   \n",
              "3    AL  ABBEVILLE POLICE DEPT  1240-01-411-1265   \n",
              "4    AL  ABBEVILLE POLICE DEPT  5855-01-577-7174   \n",
              "\n",
              "                                Item Name  Quantity    UI  Acquisition Value  \\\n",
              "0                   BALLISTIC BLANKET KIT        10   Kit           15871.59   \n",
              "1  OPTICAL SIGHTING AND RANGING EQUIPMENT         1  Each             245.88   \n",
              "2                  MINE RESISTANT VEHICLE         1  Each          658000.00   \n",
              "3                            SIGHT,REFLEX         9  Each             333.00   \n",
              "4                    ILLUMINATOR,INFRARED        10  Each             926.00   \n",
              "\n",
              "  DEMIL Code  DEMIL IC  Ship Date Station Type  \n",
              "0          D       1.0 2018-01-30        State  \n",
              "1          D       NaN 2016-06-02        State  \n",
              "2          C       1.0 2016-11-09        State  \n",
              "3          D       1.0 2016-09-14        State  \n",
              "4          D       1.0 2017-03-28        State  "
            ],
            "text/html": [
              "\n",
              "  <div id=\"df-d4c7c676-cd55-46a7-9026-abbc25cbce65\">\n",
              "    <div class=\"colab-df-container\">\n",
              "      <div>\n",
              "<style scoped>\n",
              "    .dataframe tbody tr th:only-of-type {\n",
              "        vertical-align: middle;\n",
              "    }\n",
              "\n",
              "    .dataframe tbody tr th {\n",
              "        vertical-align: top;\n",
              "    }\n",
              "\n",
              "    .dataframe thead th {\n",
              "        text-align: right;\n",
              "    }\n",
              "</style>\n",
              "<table border=\"1\" class=\"dataframe\">\n",
              "  <thead>\n",
              "    <tr style=\"text-align: right;\">\n",
              "      <th></th>\n",
              "      <th>State</th>\n",
              "      <th>Agency Name</th>\n",
              "      <th>NSN</th>\n",
              "      <th>Item Name</th>\n",
              "      <th>Quantity</th>\n",
              "      <th>UI</th>\n",
              "      <th>Acquisition Value</th>\n",
              "      <th>DEMIL Code</th>\n",
              "      <th>DEMIL IC</th>\n",
              "      <th>Ship Date</th>\n",
              "      <th>Station Type</th>\n",
              "    </tr>\n",
              "  </thead>\n",
              "  <tbody>\n",
              "    <tr>\n",
              "      <th>0</th>\n",
              "      <td>AL</td>\n",
              "      <td>ABBEVILLE POLICE DEPT</td>\n",
              "      <td>2540-01-565-4700</td>\n",
              "      <td>BALLISTIC BLANKET KIT</td>\n",
              "      <td>10</td>\n",
              "      <td>Kit</td>\n",
              "      <td>15871.59</td>\n",
              "      <td>D</td>\n",
              "      <td>1.0</td>\n",
              "      <td>2018-01-30</td>\n",
              "      <td>State</td>\n",
              "    </tr>\n",
              "    <tr>\n",
              "      <th>1</th>\n",
              "      <td>AL</td>\n",
              "      <td>ABBEVILLE POLICE DEPT</td>\n",
              "      <td>1240-DS-OPT-SIGH</td>\n",
              "      <td>OPTICAL SIGHTING AND RANGING EQUIPMENT</td>\n",
              "      <td>1</td>\n",
              "      <td>Each</td>\n",
              "      <td>245.88</td>\n",
              "      <td>D</td>\n",
              "      <td>NaN</td>\n",
              "      <td>2016-06-02</td>\n",
              "      <td>State</td>\n",
              "    </tr>\n",
              "    <tr>\n",
              "      <th>2</th>\n",
              "      <td>AL</td>\n",
              "      <td>ABBEVILLE POLICE DEPT</td>\n",
              "      <td>2355-01-553-4634</td>\n",
              "      <td>MINE RESISTANT VEHICLE</td>\n",
              "      <td>1</td>\n",
              "      <td>Each</td>\n",
              "      <td>658000.00</td>\n",
              "      <td>C</td>\n",
              "      <td>1.0</td>\n",
              "      <td>2016-11-09</td>\n",
              "      <td>State</td>\n",
              "    </tr>\n",
              "    <tr>\n",
              "      <th>3</th>\n",
              "      <td>AL</td>\n",
              "      <td>ABBEVILLE POLICE DEPT</td>\n",
              "      <td>1240-01-411-1265</td>\n",
              "      <td>SIGHT,REFLEX</td>\n",
              "      <td>9</td>\n",
              "      <td>Each</td>\n",
              "      <td>333.00</td>\n",
              "      <td>D</td>\n",
              "      <td>1.0</td>\n",
              "      <td>2016-09-14</td>\n",
              "      <td>State</td>\n",
              "    </tr>\n",
              "    <tr>\n",
              "      <th>4</th>\n",
              "      <td>AL</td>\n",
              "      <td>ABBEVILLE POLICE DEPT</td>\n",
              "      <td>5855-01-577-7174</td>\n",
              "      <td>ILLUMINATOR,INFRARED</td>\n",
              "      <td>10</td>\n",
              "      <td>Each</td>\n",
              "      <td>926.00</td>\n",
              "      <td>D</td>\n",
              "      <td>1.0</td>\n",
              "      <td>2017-03-28</td>\n",
              "      <td>State</td>\n",
              "    </tr>\n",
              "  </tbody>\n",
              "</table>\n",
              "</div>\n",
              "      <button class=\"colab-df-convert\" onclick=\"convertToInteractive('df-d4c7c676-cd55-46a7-9026-abbc25cbce65')\"\n",
              "              title=\"Convert this dataframe to an interactive table.\"\n",
              "              style=\"display:none;\">\n",
              "        \n",
              "  <svg xmlns=\"http://www.w3.org/2000/svg\" height=\"24px\"viewBox=\"0 0 24 24\"\n",
              "       width=\"24px\">\n",
              "    <path d=\"M0 0h24v24H0V0z\" fill=\"none\"/>\n",
              "    <path d=\"M18.56 5.44l.94 2.06.94-2.06 2.06-.94-2.06-.94-.94-2.06-.94 2.06-2.06.94zm-11 1L8.5 8.5l.94-2.06 2.06-.94-2.06-.94L8.5 2.5l-.94 2.06-2.06.94zm10 10l.94 2.06.94-2.06 2.06-.94-2.06-.94-.94-2.06-.94 2.06-2.06.94z\"/><path d=\"M17.41 7.96l-1.37-1.37c-.4-.4-.92-.59-1.43-.59-.52 0-1.04.2-1.43.59L10.3 9.45l-7.72 7.72c-.78.78-.78 2.05 0 2.83L4 21.41c.39.39.9.59 1.41.59.51 0 1.02-.2 1.41-.59l7.78-7.78 2.81-2.81c.8-.78.8-2.07 0-2.86zM5.41 20L4 18.59l7.72-7.72 1.47 1.35L5.41 20z\"/>\n",
              "  </svg>\n",
              "      </button>\n",
              "      \n",
              "  <style>\n",
              "    .colab-df-container {\n",
              "      display:flex;\n",
              "      flex-wrap:wrap;\n",
              "      gap: 12px;\n",
              "    }\n",
              "\n",
              "    .colab-df-convert {\n",
              "      background-color: #E8F0FE;\n",
              "      border: none;\n",
              "      border-radius: 50%;\n",
              "      cursor: pointer;\n",
              "      display: none;\n",
              "      fill: #1967D2;\n",
              "      height: 32px;\n",
              "      padding: 0 0 0 0;\n",
              "      width: 32px;\n",
              "    }\n",
              "\n",
              "    .colab-df-convert:hover {\n",
              "      background-color: #E2EBFA;\n",
              "      box-shadow: 0px 1px 2px rgba(60, 64, 67, 0.3), 0px 1px 3px 1px rgba(60, 64, 67, 0.15);\n",
              "      fill: #174EA6;\n",
              "    }\n",
              "\n",
              "    [theme=dark] .colab-df-convert {\n",
              "      background-color: #3B4455;\n",
              "      fill: #D2E3FC;\n",
              "    }\n",
              "\n",
              "    [theme=dark] .colab-df-convert:hover {\n",
              "      background-color: #434B5C;\n",
              "      box-shadow: 0px 1px 3px 1px rgba(0, 0, 0, 0.15);\n",
              "      filter: drop-shadow(0px 1px 2px rgba(0, 0, 0, 0.3));\n",
              "      fill: #FFFFFF;\n",
              "    }\n",
              "  </style>\n",
              "\n",
              "      <script>\n",
              "        const buttonEl =\n",
              "          document.querySelector('#df-d4c7c676-cd55-46a7-9026-abbc25cbce65 button.colab-df-convert');\n",
              "        buttonEl.style.display =\n",
              "          google.colab.kernel.accessAllowed ? 'block' : 'none';\n",
              "\n",
              "        async function convertToInteractive(key) {\n",
              "          const element = document.querySelector('#df-d4c7c676-cd55-46a7-9026-abbc25cbce65');\n",
              "          const dataTable =\n",
              "            await google.colab.kernel.invokeFunction('convertToInteractive',\n",
              "                                                     [key], {});\n",
              "          if (!dataTable) return;\n",
              "\n",
              "          const docLinkHtml = 'Like what you see? Visit the ' +\n",
              "            '<a target=\"_blank\" href=https://colab.research.google.com/notebooks/data_table.ipynb>data table notebook</a>'\n",
              "            + ' to learn more about interactive tables.';\n",
              "          element.innerHTML = '';\n",
              "          dataTable['output_type'] = 'display_data';\n",
              "          await google.colab.output.renderOutput(dataTable, element);\n",
              "          const docLink = document.createElement('div');\n",
              "          docLink.innerHTML = docLinkHtml;\n",
              "          element.appendChild(docLink);\n",
              "        }\n",
              "      </script>\n",
              "    </div>\n",
              "  </div>\n",
              "  "
            ]
          },
          "metadata": {},
          "execution_count": 5
        }
      ]
    },
    {
      "cell_type": "markdown",
      "metadata": {
        "id": "0twHaUa7DSG_"
      },
      "source": [
        "<a id=\"data-cleaning\"></a>\n",
        "# Data Cleaning and Feature Engineering"
      ]
    },
    {
      "cell_type": "code",
      "metadata": {
        "id": "3qZ2uRryePZe"
      },
      "source": [
        "data_clean = data.copy()"
      ],
      "execution_count": null,
      "outputs": []
    },
    {
      "cell_type": "markdown",
      "metadata": {
        "id": "x3Zbq2ODgxXw"
      },
      "source": [
        "<a id=\"fixing-data-types\"></a>\n",
        "## Fixing Data Types"
      ]
    },
    {
      "cell_type": "code",
      "metadata": {
        "id": "BhoGdkQzgw3H"
      },
      "source": [
        "data_clean['DEMIL IC'] = data_clean['DEMIL IC'].astype(str)"
      ],
      "execution_count": null,
      "outputs": []
    },
    {
      "cell_type": "markdown",
      "metadata": {
        "id": "6sm0I4A6YQln"
      },
      "source": [
        "<a id=\"handling-missing-values\"></a>\n",
        "## Handling Missing Values"
      ]
    },
    {
      "cell_type": "code",
      "metadata": {
        "id": "ZFk1lZHvjLyR"
      },
      "source": [
        "data_clean.loc[data_clean['DEMIL IC'] == 'nan', 'DEMIL IC'] = 'Not Reviewed/No Integrity'"
      ],
      "execution_count": null,
      "outputs": []
    },
    {
      "cell_type": "code",
      "metadata": {
        "colab": {
          "base_uri": "https://localhost:8080/"
        },
        "id": "4cYfb1-2YbZm",
        "outputId": "bad5accb-9ec6-42b4-c0e7-a88867d24576"
      },
      "source": [
        "data_clean.info()"
      ],
      "execution_count": null,
      "outputs": [
        {
          "output_type": "stream",
          "name": "stdout",
          "text": [
            "<class 'pandas.core.frame.DataFrame'>\n",
            "Int64Index: 130958 entries, 0 to 398\n",
            "Data columns (total 11 columns):\n",
            " #   Column             Non-Null Count   Dtype         \n",
            "---  ------             --------------   -----         \n",
            " 0   State              130958 non-null  object        \n",
            " 1   Agency Name        130958 non-null  object        \n",
            " 2   NSN                130958 non-null  object        \n",
            " 3   Item Name          130958 non-null  object        \n",
            " 4   Quantity           130958 non-null  int64         \n",
            " 5   UI                 130958 non-null  object        \n",
            " 6   Acquisition Value  130958 non-null  float64       \n",
            " 7   DEMIL Code         130958 non-null  object        \n",
            " 8   DEMIL IC           130958 non-null  object        \n",
            " 9   Ship Date          130958 non-null  datetime64[ns]\n",
            " 10  Station Type       130958 non-null  object        \n",
            "dtypes: datetime64[ns](1), float64(1), int64(1), object(8)\n",
            "memory usage: 12.0+ MB\n"
          ]
        }
      ]
    },
    {
      "cell_type": "markdown",
      "metadata": {
        "id": "MJrgMtSEdc0N"
      },
      "source": [
        "<a id=\"removing-erronous-zeros\"></a>\n",
        "## Removing Erroneous Zeros"
      ]
    },
    {
      "cell_type": "code",
      "metadata": {
        "colab": {
          "base_uri": "https://localhost:8080/"
        },
        "id": "SmXZnbGsdpYh",
        "outputId": "bada1a3a-6215-416d-c4b5-f5cbe7a85a3b"
      },
      "source": [
        "err_acquisition_value = data_clean[data_clean['Acquisition Value'] == 0 ]\n",
        "len(err_acquisition_value)"
      ],
      "execution_count": null,
      "outputs": [
        {
          "output_type": "execute_result",
          "data": {
            "text/plain": [
              "46"
            ]
          },
          "metadata": {},
          "execution_count": 11
        }
      ]
    },
    {
      "cell_type": "code",
      "metadata": {
        "colab": {
          "base_uri": "https://localhost:8080/"
        },
        "id": "X3QVkhzieZE7",
        "outputId": "ae38aaa7-dc4a-43f0-c6a5-22ae2a04c92a"
      },
      "source": [
        "err_quantity = data_clean[data_clean['Quantity'] == 0 ]\n",
        "len(err_quantity)"
      ],
      "execution_count": null,
      "outputs": [
        {
          "output_type": "execute_result",
          "data": {
            "text/plain": [
              "1"
            ]
          },
          "metadata": {},
          "execution_count": 12
        }
      ]
    },
    {
      "cell_type": "code",
      "metadata": {
        "id": "p7HHnagvem3x"
      },
      "source": [
        "data_clean = data_clean.drop(pd.concat([err_acquisition_value.index.to_series(), err_quantity.index.to_series()]))"
      ],
      "execution_count": null,
      "outputs": []
    },
    {
      "cell_type": "markdown",
      "metadata": {
        "id": "SUZa_V7ZZAv5"
      },
      "source": [
        "<a id=\"deriving-features\"></a>\n",
        "## Deriving Features"
      ]
    },
    {
      "cell_type": "code",
      "metadata": {
        "id": "KBpQpK12Zb4M"
      },
      "source": [
        "data_clean['ship_day'] = pd.DatetimeIndex(data_clean['Ship Date']).day\n",
        "data_clean['ship_month'] = pd.DatetimeIndex(data_clean['Ship Date']).month\n",
        "data_clean['ship_year'] = pd.DatetimeIndex(data_clean['Ship Date']).year"
      ],
      "execution_count": null,
      "outputs": []
    },
    {
      "cell_type": "code",
      "metadata": {
        "colab": {
          "base_uri": "https://localhost:8080/",
          "height": 354
        },
        "id": "9lOmWKhVdieT",
        "outputId": "b5daf8e4-56f5-439f-a32b-d1c0850e3a00"
      },
      "source": [
        "data_clean.head()"
      ],
      "execution_count": null,
      "outputs": [
        {
          "output_type": "execute_result",
          "data": {
            "text/plain": [
              "  State            Agency Name               NSN  \\\n",
              "0    AL  ABBEVILLE POLICE DEPT  2540-01-565-4700   \n",
              "1    AL  ABBEVILLE POLICE DEPT  1240-DS-OPT-SIGH   \n",
              "2    AL  ABBEVILLE POLICE DEPT  2355-01-553-4634   \n",
              "3    AL  ABBEVILLE POLICE DEPT  1240-01-411-1265   \n",
              "4    AL  ABBEVILLE POLICE DEPT  5855-01-577-7174   \n",
              "\n",
              "                                Item Name  Quantity    UI  Acquisition Value  \\\n",
              "0                   BALLISTIC BLANKET KIT        10   Kit           15871.59   \n",
              "1  OPTICAL SIGHTING AND RANGING EQUIPMENT         1  Each             245.88   \n",
              "2                  MINE RESISTANT VEHICLE         1  Each          658000.00   \n",
              "3                            SIGHT,REFLEX         9  Each             333.00   \n",
              "4                    ILLUMINATOR,INFRARED        10  Each             926.00   \n",
              "\n",
              "  DEMIL Code                   DEMIL IC  Ship Date Station Type  ship_day  \\\n",
              "0          D                        1.0 2018-01-30        State        30   \n",
              "1          D  Not Reviewed/No Integrity 2016-06-02        State         2   \n",
              "2          C                        1.0 2016-11-09        State         9   \n",
              "3          D                        1.0 2016-09-14        State        14   \n",
              "4          D                        1.0 2017-03-28        State        28   \n",
              "\n",
              "   ship_month  ship_year  \n",
              "0           1       2018  \n",
              "1           6       2016  \n",
              "2          11       2016  \n",
              "3           9       2016  \n",
              "4           3       2017  "
            ],
            "text/html": [
              "\n",
              "  <div id=\"df-ba390f1b-1378-46b7-b2bd-2b3dbde703c6\">\n",
              "    <div class=\"colab-df-container\">\n",
              "      <div>\n",
              "<style scoped>\n",
              "    .dataframe tbody tr th:only-of-type {\n",
              "        vertical-align: middle;\n",
              "    }\n",
              "\n",
              "    .dataframe tbody tr th {\n",
              "        vertical-align: top;\n",
              "    }\n",
              "\n",
              "    .dataframe thead th {\n",
              "        text-align: right;\n",
              "    }\n",
              "</style>\n",
              "<table border=\"1\" class=\"dataframe\">\n",
              "  <thead>\n",
              "    <tr style=\"text-align: right;\">\n",
              "      <th></th>\n",
              "      <th>State</th>\n",
              "      <th>Agency Name</th>\n",
              "      <th>NSN</th>\n",
              "      <th>Item Name</th>\n",
              "      <th>Quantity</th>\n",
              "      <th>UI</th>\n",
              "      <th>Acquisition Value</th>\n",
              "      <th>DEMIL Code</th>\n",
              "      <th>DEMIL IC</th>\n",
              "      <th>Ship Date</th>\n",
              "      <th>Station Type</th>\n",
              "      <th>ship_day</th>\n",
              "      <th>ship_month</th>\n",
              "      <th>ship_year</th>\n",
              "    </tr>\n",
              "  </thead>\n",
              "  <tbody>\n",
              "    <tr>\n",
              "      <th>0</th>\n",
              "      <td>AL</td>\n",
              "      <td>ABBEVILLE POLICE DEPT</td>\n",
              "      <td>2540-01-565-4700</td>\n",
              "      <td>BALLISTIC BLANKET KIT</td>\n",
              "      <td>10</td>\n",
              "      <td>Kit</td>\n",
              "      <td>15871.59</td>\n",
              "      <td>D</td>\n",
              "      <td>1.0</td>\n",
              "      <td>2018-01-30</td>\n",
              "      <td>State</td>\n",
              "      <td>30</td>\n",
              "      <td>1</td>\n",
              "      <td>2018</td>\n",
              "    </tr>\n",
              "    <tr>\n",
              "      <th>1</th>\n",
              "      <td>AL</td>\n",
              "      <td>ABBEVILLE POLICE DEPT</td>\n",
              "      <td>1240-DS-OPT-SIGH</td>\n",
              "      <td>OPTICAL SIGHTING AND RANGING EQUIPMENT</td>\n",
              "      <td>1</td>\n",
              "      <td>Each</td>\n",
              "      <td>245.88</td>\n",
              "      <td>D</td>\n",
              "      <td>Not Reviewed/No Integrity</td>\n",
              "      <td>2016-06-02</td>\n",
              "      <td>State</td>\n",
              "      <td>2</td>\n",
              "      <td>6</td>\n",
              "      <td>2016</td>\n",
              "    </tr>\n",
              "    <tr>\n",
              "      <th>2</th>\n",
              "      <td>AL</td>\n",
              "      <td>ABBEVILLE POLICE DEPT</td>\n",
              "      <td>2355-01-553-4634</td>\n",
              "      <td>MINE RESISTANT VEHICLE</td>\n",
              "      <td>1</td>\n",
              "      <td>Each</td>\n",
              "      <td>658000.00</td>\n",
              "      <td>C</td>\n",
              "      <td>1.0</td>\n",
              "      <td>2016-11-09</td>\n",
              "      <td>State</td>\n",
              "      <td>9</td>\n",
              "      <td>11</td>\n",
              "      <td>2016</td>\n",
              "    </tr>\n",
              "    <tr>\n",
              "      <th>3</th>\n",
              "      <td>AL</td>\n",
              "      <td>ABBEVILLE POLICE DEPT</td>\n",
              "      <td>1240-01-411-1265</td>\n",
              "      <td>SIGHT,REFLEX</td>\n",
              "      <td>9</td>\n",
              "      <td>Each</td>\n",
              "      <td>333.00</td>\n",
              "      <td>D</td>\n",
              "      <td>1.0</td>\n",
              "      <td>2016-09-14</td>\n",
              "      <td>State</td>\n",
              "      <td>14</td>\n",
              "      <td>9</td>\n",
              "      <td>2016</td>\n",
              "    </tr>\n",
              "    <tr>\n",
              "      <th>4</th>\n",
              "      <td>AL</td>\n",
              "      <td>ABBEVILLE POLICE DEPT</td>\n",
              "      <td>5855-01-577-7174</td>\n",
              "      <td>ILLUMINATOR,INFRARED</td>\n",
              "      <td>10</td>\n",
              "      <td>Each</td>\n",
              "      <td>926.00</td>\n",
              "      <td>D</td>\n",
              "      <td>1.0</td>\n",
              "      <td>2017-03-28</td>\n",
              "      <td>State</td>\n",
              "      <td>28</td>\n",
              "      <td>3</td>\n",
              "      <td>2017</td>\n",
              "    </tr>\n",
              "  </tbody>\n",
              "</table>\n",
              "</div>\n",
              "      <button class=\"colab-df-convert\" onclick=\"convertToInteractive('df-ba390f1b-1378-46b7-b2bd-2b3dbde703c6')\"\n",
              "              title=\"Convert this dataframe to an interactive table.\"\n",
              "              style=\"display:none;\">\n",
              "        \n",
              "  <svg xmlns=\"http://www.w3.org/2000/svg\" height=\"24px\"viewBox=\"0 0 24 24\"\n",
              "       width=\"24px\">\n",
              "    <path d=\"M0 0h24v24H0V0z\" fill=\"none\"/>\n",
              "    <path d=\"M18.56 5.44l.94 2.06.94-2.06 2.06-.94-2.06-.94-.94-2.06-.94 2.06-2.06.94zm-11 1L8.5 8.5l.94-2.06 2.06-.94-2.06-.94L8.5 2.5l-.94 2.06-2.06.94zm10 10l.94 2.06.94-2.06 2.06-.94-2.06-.94-.94-2.06-.94 2.06-2.06.94z\"/><path d=\"M17.41 7.96l-1.37-1.37c-.4-.4-.92-.59-1.43-.59-.52 0-1.04.2-1.43.59L10.3 9.45l-7.72 7.72c-.78.78-.78 2.05 0 2.83L4 21.41c.39.39.9.59 1.41.59.51 0 1.02-.2 1.41-.59l7.78-7.78 2.81-2.81c.8-.78.8-2.07 0-2.86zM5.41 20L4 18.59l7.72-7.72 1.47 1.35L5.41 20z\"/>\n",
              "  </svg>\n",
              "      </button>\n",
              "      \n",
              "  <style>\n",
              "    .colab-df-container {\n",
              "      display:flex;\n",
              "      flex-wrap:wrap;\n",
              "      gap: 12px;\n",
              "    }\n",
              "\n",
              "    .colab-df-convert {\n",
              "      background-color: #E8F0FE;\n",
              "      border: none;\n",
              "      border-radius: 50%;\n",
              "      cursor: pointer;\n",
              "      display: none;\n",
              "      fill: #1967D2;\n",
              "      height: 32px;\n",
              "      padding: 0 0 0 0;\n",
              "      width: 32px;\n",
              "    }\n",
              "\n",
              "    .colab-df-convert:hover {\n",
              "      background-color: #E2EBFA;\n",
              "      box-shadow: 0px 1px 2px rgba(60, 64, 67, 0.3), 0px 1px 3px 1px rgba(60, 64, 67, 0.15);\n",
              "      fill: #174EA6;\n",
              "    }\n",
              "\n",
              "    [theme=dark] .colab-df-convert {\n",
              "      background-color: #3B4455;\n",
              "      fill: #D2E3FC;\n",
              "    }\n",
              "\n",
              "    [theme=dark] .colab-df-convert:hover {\n",
              "      background-color: #434B5C;\n",
              "      box-shadow: 0px 1px 3px 1px rgba(0, 0, 0, 0.15);\n",
              "      filter: drop-shadow(0px 1px 2px rgba(0, 0, 0, 0.3));\n",
              "      fill: #FFFFFF;\n",
              "    }\n",
              "  </style>\n",
              "\n",
              "      <script>\n",
              "        const buttonEl =\n",
              "          document.querySelector('#df-ba390f1b-1378-46b7-b2bd-2b3dbde703c6 button.colab-df-convert');\n",
              "        buttonEl.style.display =\n",
              "          google.colab.kernel.accessAllowed ? 'block' : 'none';\n",
              "\n",
              "        async function convertToInteractive(key) {\n",
              "          const element = document.querySelector('#df-ba390f1b-1378-46b7-b2bd-2b3dbde703c6');\n",
              "          const dataTable =\n",
              "            await google.colab.kernel.invokeFunction('convertToInteractive',\n",
              "                                                     [key], {});\n",
              "          if (!dataTable) return;\n",
              "\n",
              "          const docLinkHtml = 'Like what you see? Visit the ' +\n",
              "            '<a target=\"_blank\" href=https://colab.research.google.com/notebooks/data_table.ipynb>data table notebook</a>'\n",
              "            + ' to learn more about interactive tables.';\n",
              "          element.innerHTML = '';\n",
              "          dataTable['output_type'] = 'display_data';\n",
              "          await google.colab.output.renderOutput(dataTable, element);\n",
              "          const docLink = document.createElement('div');\n",
              "          docLink.innerHTML = docLinkHtml;\n",
              "          element.appendChild(docLink);\n",
              "        }\n",
              "      </script>\n",
              "    </div>\n",
              "  </div>\n",
              "  "
            ]
          },
          "metadata": {},
          "execution_count": 15
        }
      ]
    },
    {
      "cell_type": "markdown",
      "metadata": {
        "id": "tNaFlyqdYjm0"
      },
      "source": [
        "<a id=\"removing-cols\"></a>\n",
        "## Removing Unnecessary Columns"
      ]
    },
    {
      "cell_type": "code",
      "metadata": {
        "colab": {
          "base_uri": "https://localhost:8080/"
        },
        "id": "u-fTvTbxFhWD",
        "outputId": "009bdddd-c8f6-44c7-dbea-61a420bba887"
      },
      "source": [
        "len(data_clean[data_clean.UI == 'Each'])/len(data_clean)"
      ],
      "execution_count": null,
      "outputs": [
        {
          "output_type": "execute_result",
          "data": {
            "text/plain": [
              "0.9616427174298079"
            ]
          },
          "metadata": {},
          "execution_count": 16
        }
      ]
    },
    {
      "cell_type": "code",
      "metadata": {
        "id": "FGrkfObeYtS6"
      },
      "source": [
        "features_todrop = ['Agency Name', 'NSN', 'UI', 'Station Type', 'Ship Date']"
      ],
      "execution_count": null,
      "outputs": []
    },
    {
      "cell_type": "code",
      "metadata": {
        "id": "_LFiPJ6cYqrr"
      },
      "source": [
        "data_clean = data_clean.drop(features_todrop, axis=1)"
      ],
      "execution_count": null,
      "outputs": []
    },
    {
      "cell_type": "code",
      "metadata": {
        "id": "-XCSZf5VY8Y5",
        "colab": {
          "base_uri": "https://localhost:8080/",
          "height": 206
        },
        "outputId": "b8cc5fe2-acbb-4ff0-c8d2-a4e3a8285581"
      },
      "source": [
        "data_clean.head()"
      ],
      "execution_count": null,
      "outputs": [
        {
          "output_type": "execute_result",
          "data": {
            "text/plain": [
              "  State                               Item Name  Quantity  Acquisition Value  \\\n",
              "0    AL                   BALLISTIC BLANKET KIT        10           15871.59   \n",
              "1    AL  OPTICAL SIGHTING AND RANGING EQUIPMENT         1             245.88   \n",
              "2    AL                  MINE RESISTANT VEHICLE         1          658000.00   \n",
              "3    AL                            SIGHT,REFLEX         9             333.00   \n",
              "4    AL                    ILLUMINATOR,INFRARED        10             926.00   \n",
              "\n",
              "  DEMIL Code                   DEMIL IC  ship_day  ship_month  ship_year  \n",
              "0          D                        1.0        30           1       2018  \n",
              "1          D  Not Reviewed/No Integrity         2           6       2016  \n",
              "2          C                        1.0         9          11       2016  \n",
              "3          D                        1.0        14           9       2016  \n",
              "4          D                        1.0        28           3       2017  "
            ],
            "text/html": [
              "\n",
              "  <div id=\"df-dfb63810-0477-495c-a54b-293535702b76\">\n",
              "    <div class=\"colab-df-container\">\n",
              "      <div>\n",
              "<style scoped>\n",
              "    .dataframe tbody tr th:only-of-type {\n",
              "        vertical-align: middle;\n",
              "    }\n",
              "\n",
              "    .dataframe tbody tr th {\n",
              "        vertical-align: top;\n",
              "    }\n",
              "\n",
              "    .dataframe thead th {\n",
              "        text-align: right;\n",
              "    }\n",
              "</style>\n",
              "<table border=\"1\" class=\"dataframe\">\n",
              "  <thead>\n",
              "    <tr style=\"text-align: right;\">\n",
              "      <th></th>\n",
              "      <th>State</th>\n",
              "      <th>Item Name</th>\n",
              "      <th>Quantity</th>\n",
              "      <th>Acquisition Value</th>\n",
              "      <th>DEMIL Code</th>\n",
              "      <th>DEMIL IC</th>\n",
              "      <th>ship_day</th>\n",
              "      <th>ship_month</th>\n",
              "      <th>ship_year</th>\n",
              "    </tr>\n",
              "  </thead>\n",
              "  <tbody>\n",
              "    <tr>\n",
              "      <th>0</th>\n",
              "      <td>AL</td>\n",
              "      <td>BALLISTIC BLANKET KIT</td>\n",
              "      <td>10</td>\n",
              "      <td>15871.59</td>\n",
              "      <td>D</td>\n",
              "      <td>1.0</td>\n",
              "      <td>30</td>\n",
              "      <td>1</td>\n",
              "      <td>2018</td>\n",
              "    </tr>\n",
              "    <tr>\n",
              "      <th>1</th>\n",
              "      <td>AL</td>\n",
              "      <td>OPTICAL SIGHTING AND RANGING EQUIPMENT</td>\n",
              "      <td>1</td>\n",
              "      <td>245.88</td>\n",
              "      <td>D</td>\n",
              "      <td>Not Reviewed/No Integrity</td>\n",
              "      <td>2</td>\n",
              "      <td>6</td>\n",
              "      <td>2016</td>\n",
              "    </tr>\n",
              "    <tr>\n",
              "      <th>2</th>\n",
              "      <td>AL</td>\n",
              "      <td>MINE RESISTANT VEHICLE</td>\n",
              "      <td>1</td>\n",
              "      <td>658000.00</td>\n",
              "      <td>C</td>\n",
              "      <td>1.0</td>\n",
              "      <td>9</td>\n",
              "      <td>11</td>\n",
              "      <td>2016</td>\n",
              "    </tr>\n",
              "    <tr>\n",
              "      <th>3</th>\n",
              "      <td>AL</td>\n",
              "      <td>SIGHT,REFLEX</td>\n",
              "      <td>9</td>\n",
              "      <td>333.00</td>\n",
              "      <td>D</td>\n",
              "      <td>1.0</td>\n",
              "      <td>14</td>\n",
              "      <td>9</td>\n",
              "      <td>2016</td>\n",
              "    </tr>\n",
              "    <tr>\n",
              "      <th>4</th>\n",
              "      <td>AL</td>\n",
              "      <td>ILLUMINATOR,INFRARED</td>\n",
              "      <td>10</td>\n",
              "      <td>926.00</td>\n",
              "      <td>D</td>\n",
              "      <td>1.0</td>\n",
              "      <td>28</td>\n",
              "      <td>3</td>\n",
              "      <td>2017</td>\n",
              "    </tr>\n",
              "  </tbody>\n",
              "</table>\n",
              "</div>\n",
              "      <button class=\"colab-df-convert\" onclick=\"convertToInteractive('df-dfb63810-0477-495c-a54b-293535702b76')\"\n",
              "              title=\"Convert this dataframe to an interactive table.\"\n",
              "              style=\"display:none;\">\n",
              "        \n",
              "  <svg xmlns=\"http://www.w3.org/2000/svg\" height=\"24px\"viewBox=\"0 0 24 24\"\n",
              "       width=\"24px\">\n",
              "    <path d=\"M0 0h24v24H0V0z\" fill=\"none\"/>\n",
              "    <path d=\"M18.56 5.44l.94 2.06.94-2.06 2.06-.94-2.06-.94-.94-2.06-.94 2.06-2.06.94zm-11 1L8.5 8.5l.94-2.06 2.06-.94-2.06-.94L8.5 2.5l-.94 2.06-2.06.94zm10 10l.94 2.06.94-2.06 2.06-.94-2.06-.94-.94-2.06-.94 2.06-2.06.94z\"/><path d=\"M17.41 7.96l-1.37-1.37c-.4-.4-.92-.59-1.43-.59-.52 0-1.04.2-1.43.59L10.3 9.45l-7.72 7.72c-.78.78-.78 2.05 0 2.83L4 21.41c.39.39.9.59 1.41.59.51 0 1.02-.2 1.41-.59l7.78-7.78 2.81-2.81c.8-.78.8-2.07 0-2.86zM5.41 20L4 18.59l7.72-7.72 1.47 1.35L5.41 20z\"/>\n",
              "  </svg>\n",
              "      </button>\n",
              "      \n",
              "  <style>\n",
              "    .colab-df-container {\n",
              "      display:flex;\n",
              "      flex-wrap:wrap;\n",
              "      gap: 12px;\n",
              "    }\n",
              "\n",
              "    .colab-df-convert {\n",
              "      background-color: #E8F0FE;\n",
              "      border: none;\n",
              "      border-radius: 50%;\n",
              "      cursor: pointer;\n",
              "      display: none;\n",
              "      fill: #1967D2;\n",
              "      height: 32px;\n",
              "      padding: 0 0 0 0;\n",
              "      width: 32px;\n",
              "    }\n",
              "\n",
              "    .colab-df-convert:hover {\n",
              "      background-color: #E2EBFA;\n",
              "      box-shadow: 0px 1px 2px rgba(60, 64, 67, 0.3), 0px 1px 3px 1px rgba(60, 64, 67, 0.15);\n",
              "      fill: #174EA6;\n",
              "    }\n",
              "\n",
              "    [theme=dark] .colab-df-convert {\n",
              "      background-color: #3B4455;\n",
              "      fill: #D2E3FC;\n",
              "    }\n",
              "\n",
              "    [theme=dark] .colab-df-convert:hover {\n",
              "      background-color: #434B5C;\n",
              "      box-shadow: 0px 1px 3px 1px rgba(0, 0, 0, 0.15);\n",
              "      filter: drop-shadow(0px 1px 2px rgba(0, 0, 0, 0.3));\n",
              "      fill: #FFFFFF;\n",
              "    }\n",
              "  </style>\n",
              "\n",
              "      <script>\n",
              "        const buttonEl =\n",
              "          document.querySelector('#df-dfb63810-0477-495c-a54b-293535702b76 button.colab-df-convert');\n",
              "        buttonEl.style.display =\n",
              "          google.colab.kernel.accessAllowed ? 'block' : 'none';\n",
              "\n",
              "        async function convertToInteractive(key) {\n",
              "          const element = document.querySelector('#df-dfb63810-0477-495c-a54b-293535702b76');\n",
              "          const dataTable =\n",
              "            await google.colab.kernel.invokeFunction('convertToInteractive',\n",
              "                                                     [key], {});\n",
              "          if (!dataTable) return;\n",
              "\n",
              "          const docLinkHtml = 'Like what you see? Visit the ' +\n",
              "            '<a target=\"_blank\" href=https://colab.research.google.com/notebooks/data_table.ipynb>data table notebook</a>'\n",
              "            + ' to learn more about interactive tables.';\n",
              "          element.innerHTML = '';\n",
              "          dataTable['output_type'] = 'display_data';\n",
              "          await google.colab.output.renderOutput(dataTable, element);\n",
              "          const docLink = document.createElement('div');\n",
              "          docLink.innerHTML = docLinkHtml;\n",
              "          element.appendChild(docLink);\n",
              "        }\n",
              "      </script>\n",
              "    </div>\n",
              "  </div>\n",
              "  "
            ]
          },
          "metadata": {},
          "execution_count": 19
        }
      ]
    },
    {
      "cell_type": "markdown",
      "metadata": {
        "id": "Ttl_9VtuYePS"
      },
      "source": [
        "<a id=\"features-transformations\"></a>\n",
        "## Features Transformations"
      ]
    },
    {
      "cell_type": "code",
      "metadata": {
        "id": "zLG4rqsJgHfJ"
      },
      "source": [
        "from sklearn.model_selection import train_test_split"
      ],
      "execution_count": null,
      "outputs": []
    },
    {
      "cell_type": "code",
      "metadata": {
        "id": "gQv_Mud-Yq5g"
      },
      "source": [
        "x = data_clean.drop('DEMIL Code', axis=1)\n",
        "y = data_clean['DEMIL Code']"
      ],
      "execution_count": null,
      "outputs": []
    },
    {
      "cell_type": "code",
      "metadata": {
        "id": "A9szeiTMoAy1"
      },
      "source": [
        "x_train, x_test, y_train, y_test = train_test_split(x, y, test_size=0.20, random_state=42)"
      ],
      "execution_count": null,
      "outputs": []
    },
    {
      "cell_type": "code",
      "metadata": {
        "id": "fjpS93id61KJ"
      },
      "source": [
        "x_train, x_val, y_train, y_val = train_test_split(x_train, y_train, test_size=0.15, random_state=42)"
      ],
      "execution_count": null,
      "outputs": []
    },
    {
      "cell_type": "code",
      "metadata": {
        "id": "ZofZf4I3olpr"
      },
      "source": [
        "categorical_features = ['State', 'Item Name', 'DEMIL IC']\n",
        "numerical_features = ['Quantity', 'Acquisition Value', 'ship_day', 'ship_month', 'ship_year']"
      ],
      "execution_count": null,
      "outputs": []
    },
    {
      "cell_type": "markdown",
      "metadata": {
        "id": "y8rcC-o-qAzO"
      },
      "source": [
        "### Numerical Features"
      ]
    },
    {
      "cell_type": "code",
      "metadata": {
        "id": "ERF84hKlplfr"
      },
      "source": [
        "from sklearn.preprocessing import MinMaxScaler"
      ],
      "execution_count": null,
      "outputs": []
    },
    {
      "cell_type": "code",
      "metadata": {
        "id": "YIO1T8IWqHya"
      },
      "source": [
        "scaler = MinMaxScaler()"
      ],
      "execution_count": null,
      "outputs": []
    },
    {
      "cell_type": "code",
      "metadata": {
        "colab": {
          "base_uri": "https://localhost:8080/"
        },
        "id": "RRQvVPVBqfV2",
        "outputId": "59e777f9-fdf2-4913-f110-4dde53d827c7"
      },
      "source": [
        "scaler.fit(x_train[numerical_features])"
      ],
      "execution_count": null,
      "outputs": [
        {
          "output_type": "execute_result",
          "data": {
            "text/plain": [
              "MinMaxScaler()"
            ]
          },
          "metadata": {},
          "execution_count": 27
        }
      ]
    },
    {
      "cell_type": "code",
      "metadata": {
        "id": "OnXl_0o0qoko"
      },
      "source": [
        "x_train[numerical_features] = scaler.transform(x_train[numerical_features])\n",
        "x_val[numerical_features] = scaler.transform(x_val[numerical_features])\n",
        "x_test[numerical_features] = scaler.transform(x_test[numerical_features])"
      ],
      "execution_count": null,
      "outputs": []
    },
    {
      "cell_type": "markdown",
      "metadata": {
        "id": "uecP3ZR_qFAU"
      },
      "source": [
        "### Categorical Features"
      ]
    },
    {
      "cell_type": "code",
      "metadata": {
        "id": "DONPJH5ep_g_"
      },
      "source": [
        "from sklearn.preprocessing import OneHotEncoder, LabelEncoder"
      ],
      "execution_count": null,
      "outputs": []
    },
    {
      "cell_type": "code",
      "metadata": {
        "id": "k85EX-JDqM3k",
        "colab": {
          "base_uri": "https://localhost:8080/"
        },
        "outputId": "48f7ba93-4c1b-41c5-a6bd-3053f1ed3ea5"
      },
      "source": [
        "ohe = OneHotEncoder(handle_unknown='ignore')\n",
        "ohe.fit(x_train)"
      ],
      "execution_count": null,
      "outputs": [
        {
          "output_type": "execute_result",
          "data": {
            "text/plain": [
              "OneHotEncoder(handle_unknown='ignore')"
            ]
          },
          "metadata": {},
          "execution_count": 30
        }
      ]
    },
    {
      "cell_type": "code",
      "metadata": {
        "id": "ShGpjXart3zY"
      },
      "source": [
        "x_train_enc = ohe.transform(x_train)\n",
        "x_val_enc = ohe.transform(x_val)\n",
        "x_test_enc = ohe.transform(x_test)"
      ],
      "execution_count": null,
      "outputs": []
    },
    {
      "cell_type": "markdown",
      "metadata": {
        "id": "kN8iVJbcwBPh"
      },
      "source": [
        "### Encoding Target"
      ]
    },
    {
      "cell_type": "code",
      "metadata": {
        "colab": {
          "base_uri": "https://localhost:8080/"
        },
        "id": "j29Qr-Tv8W5b",
        "outputId": "ca3410d8-aaa6-431e-bbde-378bcb9c4383"
      },
      "source": [
        "le = LabelEncoder()\n",
        "le.fit(y_train)"
      ],
      "execution_count": null,
      "outputs": [
        {
          "output_type": "execute_result",
          "data": {
            "text/plain": [
              "LabelEncoder()"
            ]
          },
          "metadata": {},
          "execution_count": 32
        }
      ]
    },
    {
      "cell_type": "code",
      "metadata": {
        "colab": {
          "base_uri": "https://localhost:8080/"
        },
        "id": "ZVGfcYW1D4-3",
        "outputId": "c49a3886-cf4e-43c5-9a1d-51c8088bc4c5"
      },
      "source": [
        "le.classes_"
      ],
      "execution_count": null,
      "outputs": [
        {
          "output_type": "execute_result",
          "data": {
            "text/plain": [
              "array(['A', 'B', 'C', 'D', 'E', 'F', 'Q'], dtype=object)"
            ]
          },
          "metadata": {},
          "execution_count": 33
        }
      ]
    },
    {
      "cell_type": "code",
      "metadata": {
        "id": "3vuICrVS74Wz"
      },
      "source": [
        "y_train_enc = le.transform(y_train)\n",
        "y_val_enc = le.transform(y_val)\n",
        "y_test_enc = le.transform(y_test)"
      ],
      "execution_count": null,
      "outputs": []
    },
    {
      "cell_type": "markdown",
      "metadata": {
        "id": "-80ZshGhDXbD"
      },
      "source": [
        "<a id=\"building-models\"></a>\n",
        "# Building Models"
      ]
    },
    {
      "cell_type": "code",
      "metadata": {
        "id": "6lI3XmQ1iLIK"
      },
      "source": [
        "np.random.seed(1)"
      ],
      "execution_count": null,
      "outputs": []
    },
    {
      "cell_type": "markdown",
      "metadata": {
        "id": "hmcq9zraJ5fg"
      },
      "source": [
        "<a id=\"baseline-model\"></a>\n",
        "## Building a Baseline"
      ]
    },
    {
      "cell_type": "markdown",
      "metadata": {
        "id": "fQOIWjyR-An3"
      },
      "source": [
        "### Random Forest"
      ]
    },
    {
      "cell_type": "code",
      "metadata": {
        "id": "kT1TsIQ79_nl"
      },
      "source": [
        "from sklearn.ensemble import RandomForestClassifier\n",
        "from sklearn.metrics import classification_report"
      ],
      "execution_count": null,
      "outputs": []
    },
    {
      "cell_type": "code",
      "metadata": {
        "id": "U5JAZFJd-g4S"
      },
      "source": [
        "forest = RandomForestClassifier(n_estimators=10, random_state=42)"
      ],
      "execution_count": null,
      "outputs": []
    },
    {
      "cell_type": "code",
      "metadata": {
        "colab": {
          "base_uri": "https://localhost:8080/"
        },
        "id": "34fyfC3c-nsP",
        "outputId": "68660e58-2592-4a3e-8f30-f151ea2010bd"
      },
      "source": [
        "forest.fit(x_train_enc, y_train_enc)"
      ],
      "execution_count": null,
      "outputs": [
        {
          "output_type": "execute_result",
          "data": {
            "text/plain": [
              "RandomForestClassifier(n_estimators=10, random_state=42)"
            ]
          },
          "metadata": {},
          "execution_count": 38
        }
      ]
    },
    {
      "cell_type": "code",
      "metadata": {
        "id": "o2hhcFYq_DvF"
      },
      "source": [
        "forest_y_pred = forest.predict(x_test_enc)"
      ],
      "execution_count": null,
      "outputs": []
    },
    {
      "cell_type": "code",
      "metadata": {
        "colab": {
          "base_uri": "https://localhost:8080/"
        },
        "id": "Jj05ppHM_J8x",
        "outputId": "ca3df26c-54f7-4529-92bb-bf783380d2ce"
      },
      "source": [
        "print(classification_report(y_test_enc, forest_y_pred))"
      ],
      "execution_count": null,
      "outputs": [
        {
          "output_type": "stream",
          "name": "stdout",
          "text": [
            "              precision    recall  f1-score   support\n",
            "\n",
            "           0       0.97      1.00      0.98      3642\n",
            "           1       0.71      0.30      0.43        33\n",
            "           2       0.97      0.89      0.93      1386\n",
            "           3       0.99      0.99      0.99     18529\n",
            "           4       1.00      0.36      0.53        22\n",
            "           5       1.00      0.97      0.99      1229\n",
            "           6       0.99      0.98      0.99      1131\n",
            "\n",
            "    accuracy                           0.99     25972\n",
            "   macro avg       0.95      0.79      0.83     25972\n",
            "weighted avg       0.99      0.99      0.99     25972\n",
            "\n"
          ]
        }
      ]
    },
    {
      "cell_type": "markdown",
      "source": [
        "* The random forest performed very well in terms of accuracy and precision across the classes. However, the recall of the underrepresented classes (1 and 4) is considerably lower than that of all other classes. To be able to justify using neural network models, the NN models need to perform better than this random forest model as a random forest is less computationally demanding and more easily interpretable."
      ],
      "metadata": {
        "id": "9AfPQz3OJvLt"
      }
    },
    {
      "cell_type": "markdown",
      "metadata": {
        "id": "AHGDM8pZKv0q"
      },
      "source": [
        "<a id=\"building-anns\"></a>\n",
        "## Building ANNs"
      ]
    },
    {
      "cell_type": "code",
      "metadata": {
        "id": "zcJNDKwag-FK"
      },
      "source": [
        "from tensorflow.keras.models import Model\n",
        "from tensorflow.keras.layers import Input\n",
        "from tensorflow.keras.layers import Dense\n",
        "from tensorflow.keras.optimizers import Adam, Adamax\n",
        "from tensorflow.keras.utils import plot_model"
      ],
      "execution_count": null,
      "outputs": []
    },
    {
      "cell_type": "code",
      "metadata": {
        "id": "FiPYkbYVhEvF"
      },
      "source": [
        "batch = int(len(data_clean)*0.01)"
      ],
      "execution_count": null,
      "outputs": []
    },
    {
      "cell_type": "markdown",
      "metadata": {
        "id": "6Ub4yOc5Dz86"
      },
      "source": [
        "<a id=\"ann-onehot\"></a>\n",
        "### ANN Using One-Hot Encoding"
      ]
    },
    {
      "cell_type": "code",
      "metadata": {
        "id": "end1g7NDxQmG"
      },
      "source": [
        "input = Input(shape=(x_train_enc.shape[1],))\n",
        "output = Dense(7, activation='softmax')(input)\n",
        "model = Model(inputs=input, outputs=output)"
      ],
      "execution_count": null,
      "outputs": []
    },
    {
      "cell_type": "code",
      "metadata": {
        "id": "XL_qu7YCyjVs",
        "colab": {
          "base_uri": "https://localhost:8080/"
        },
        "outputId": "3e20ea38-fc4f-4433-812f-768020ee5e61"
      },
      "source": [
        "model.compile(loss='sparse_categorical_crossentropy', optimizer='adam', metrics=['accuracy'])\n",
        "model.fit(x_train_enc, y_train_enc, epochs=10, batch_size=batch, verbose=2, validation_data=(x_val_enc, y_val_enc))"
      ],
      "execution_count": null,
      "outputs": [
        {
          "output_type": "stream",
          "name": "stdout",
          "text": [
            "Epoch 1/10\n"
          ]
        },
        {
          "output_type": "stream",
          "name": "stderr",
          "text": [
            "/usr/local/lib/python3.7/dist-packages/tensorflow/python/framework/indexed_slices.py:450: UserWarning: Converting sparse IndexedSlices(IndexedSlices(indices=Tensor(\"gradient_tape/model/dense/embedding_lookup_sparse/Reshape_1:0\", shape=(None,), dtype=int32), values=Tensor(\"gradient_tape/model/dense/embedding_lookup_sparse/Reshape:0\", shape=(None, 7), dtype=float32), dense_shape=Tensor(\"gradient_tape/model/dense/embedding_lookup_sparse/Cast:0\", shape=(2,), dtype=int32))) to a dense Tensor of unknown shape. This may consume a large amount of memory.\n",
            "  \"shape. This may consume a large amount of memory.\" % value)\n"
          ]
        },
        {
          "output_type": "stream",
          "name": "stdout",
          "text": [
            "69/69 - 2s - loss: 1.6104 - accuracy: 0.7077 - val_loss: 1.2925 - val_accuracy: 0.7397 - 2s/epoch - 27ms/step\n",
            "Epoch 2/10\n",
            "69/69 - 1s - loss: 1.0851 - accuracy: 0.7462 - val_loss: 0.9081 - val_accuracy: 0.7643 - 856ms/epoch - 12ms/step\n",
            "Epoch 3/10\n",
            "69/69 - 1s - loss: 0.7984 - accuracy: 0.7843 - val_loss: 0.7049 - val_accuracy: 0.8049 - 898ms/epoch - 13ms/step\n",
            "Epoch 4/10\n",
            "69/69 - 1s - loss: 0.6387 - accuracy: 0.8190 - val_loss: 0.5829 - val_accuracy: 0.8313 - 865ms/epoch - 13ms/step\n",
            "Epoch 5/10\n",
            "69/69 - 1s - loss: 0.5354 - accuracy: 0.8430 - val_loss: 0.4983 - val_accuracy: 0.8523 - 868ms/epoch - 13ms/step\n",
            "Epoch 6/10\n",
            "69/69 - 1s - loss: 0.4602 - accuracy: 0.8648 - val_loss: 0.4345 - val_accuracy: 0.8723 - 868ms/epoch - 13ms/step\n",
            "Epoch 7/10\n",
            "69/69 - 1s - loss: 0.4019 - accuracy: 0.8852 - val_loss: 0.3839 - val_accuracy: 0.8918 - 867ms/epoch - 13ms/step\n",
            "Epoch 8/10\n",
            "69/69 - 1s - loss: 0.3550 - accuracy: 0.9071 - val_loss: 0.3427 - val_accuracy: 0.9132 - 872ms/epoch - 13ms/step\n",
            "Epoch 9/10\n",
            "69/69 - 1s - loss: 0.3165 - accuracy: 0.9270 - val_loss: 0.3085 - val_accuracy: 0.9306 - 862ms/epoch - 12ms/step\n",
            "Epoch 10/10\n",
            "69/69 - 1s - loss: 0.2844 - accuracy: 0.9439 - val_loss: 0.2798 - val_accuracy: 0.9460 - 856ms/epoch - 12ms/step\n"
          ]
        },
        {
          "output_type": "execute_result",
          "data": {
            "text/plain": [
              "<keras.callbacks.History at 0x7ff4bf32a610>"
            ]
          },
          "metadata": {},
          "execution_count": 168
        }
      ]
    },
    {
      "cell_type": "code",
      "metadata": {
        "id": "PpV3NHlN_8Ni"
      },
      "source": [
        "y_pred_proba = model.predict(x_test_enc)\n",
        "y_pred = np.argmax(y_pred_proba, axis=1)"
      ],
      "execution_count": null,
      "outputs": []
    },
    {
      "cell_type": "code",
      "metadata": {
        "colab": {
          "base_uri": "https://localhost:8080/"
        },
        "id": "qMmykZa__r-Y",
        "outputId": "af76e3d4-db42-499d-afb7-aad7014a55c5"
      },
      "source": [
        "print(classification_report(y_test_enc, y_pred))"
      ],
      "execution_count": null,
      "outputs": [
        {
          "output_type": "stream",
          "name": "stdout",
          "text": [
            "              precision    recall  f1-score   support\n",
            "\n",
            "           0       0.96      0.97      0.96      3642\n",
            "           1       0.00      0.00      0.00        33\n",
            "           2       0.99      0.62      0.76      1386\n",
            "           3       0.94      1.00      0.97     18529\n",
            "           4       0.00      0.00      0.00        22\n",
            "           5       0.99      0.71      0.83      1229\n",
            "           6       1.00      0.74      0.85      1131\n",
            "\n",
            "    accuracy                           0.95     25972\n",
            "   macro avg       0.70      0.58      0.62     25972\n",
            "weighted avg       0.95      0.95      0.94     25972\n",
            "\n"
          ]
        },
        {
          "output_type": "stream",
          "name": "stderr",
          "text": [
            "/usr/local/lib/python3.7/dist-packages/sklearn/metrics/_classification.py:1308: UndefinedMetricWarning: Precision and F-score are ill-defined and being set to 0.0 in labels with no predicted samples. Use `zero_division` parameter to control this behavior.\n",
            "  _warn_prf(average, modifier, msg_start, len(result))\n",
            "/usr/local/lib/python3.7/dist-packages/sklearn/metrics/_classification.py:1308: UndefinedMetricWarning: Precision and F-score are ill-defined and being set to 0.0 in labels with no predicted samples. Use `zero_division` parameter to control this behavior.\n",
            "  _warn_prf(average, modifier, msg_start, len(result))\n",
            "/usr/local/lib/python3.7/dist-packages/sklearn/metrics/_classification.py:1308: UndefinedMetricWarning: Precision and F-score are ill-defined and being set to 0.0 in labels with no predicted samples. Use `zero_division` parameter to control this behavior.\n",
            "  _warn_prf(average, modifier, msg_start, len(result))\n"
          ]
        }
      ]
    },
    {
      "cell_type": "markdown",
      "source": [
        "* The ANN using one-hot encoding performed well in terms of accuracy and precision across the classes besides classes 1 and 4 which it could not predict at all. This model performed worse than the benchmark model."
      ],
      "metadata": {
        "id": "RCTHrkGqK7RU"
      }
    },
    {
      "cell_type": "markdown",
      "metadata": {
        "id": "GSUqWpndD-XJ"
      },
      "source": [
        "<a id=\"ann-embeddings\"></a>\n",
        "### ANN Using Feature Embedding"
      ]
    },
    {
      "cell_type": "code",
      "metadata": {
        "id": "MLn-pezKEBdx"
      },
      "source": [
        "import tensorflow as tf\n",
        "from tensorflow.keras.layers import StringLookup\n",
        "from tensorflow.keras import layers\n",
        "import math"
      ],
      "execution_count": null,
      "outputs": []
    },
    {
      "cell_type": "code",
      "metadata": {
        "id": "ATm0iYOMH5cf"
      },
      "source": [
        "# an input layer is created for each feature, it has to be a dictionary because \n",
        "# data is passed as a dictionary and this way it will be mapped to the right input layer\n",
        "inputs, encoded_features = {}, [] \n",
        "for col in x_train.columns:\n",
        "  if col in categorical_features:\n",
        "    vocab = list(data_clean[col].unique()) # getting vocobulary of the feature\n",
        "\n",
        "    # this is a lookup that converts strings to their right integer indices\n",
        "    lookup = StringLookup(\n",
        "                vocabulary=vocab,\n",
        "                mask_token=None,\n",
        "                num_oov_indices=0,\n",
        "                output_mode=\"int\",\n",
        "            )\n",
        "    \n",
        "    feature_input = layers.Input(name=col, shape=(), dtype=tf.string)\n",
        "    encoded_feature = lookup(feature_input) # getting the integer index of the string input\n",
        "    \n",
        "    embedding_dims = int(math.sqrt(len(vocab)))\n",
        "    embedding = layers.Embedding(input_dim=len(vocab), output_dim=embedding_dims) # creates embedding layer for the feature\n",
        "\n",
        "    encoded_feature = embedding(encoded_feature) # use the embedding layer on the feature, converts index value of the feature to embedding representation\n",
        "    \n",
        "    encoded_features.append(encoded_feature)\n",
        "    inputs[col] = feature_input\n",
        "  else:\n",
        "    # if feature is numeric then use as-is\n",
        "    feature_input = layers.Input(name=col, shape=(), dtype=tf.float32)\n",
        "    # reshaping because all layers' outputs have to have the same shape and this is the shape the lookup layer outputs \n",
        "    encoded_feature = tf.expand_dims(feature_input, -1)\n",
        "    \n",
        "    encoded_features.append(encoded_feature)\n",
        "    inputs[col] = feature_input"
      ],
      "execution_count": null,
      "outputs": []
    },
    {
      "cell_type": "code",
      "metadata": {
        "id": "ZZ1GN1KcIb5x"
      },
      "source": [
        "all_features = layers.concatenate(encoded_features)\n",
        "output = Dense(7, activation='softmax')(all_features)\n",
        "model = Model(inputs=inputs, outputs=output)"
      ],
      "execution_count": null,
      "outputs": []
    },
    {
      "cell_type": "code",
      "metadata": {
        "colab": {
          "base_uri": "https://localhost:8080/"
        },
        "id": "PG9V7sq-pPTF",
        "outputId": "7d1159fb-795c-4f82-920e-3ddfd5887203"
      },
      "source": [
        "model.compile(loss='sparse_categorical_crossentropy', optimizer='adam', metrics=['accuracy'])\n",
        "model.fit(dict(x_train), y_train_enc, epochs=10, batch_size=batch, verbose=2, validation_data=(dict(x_val), y_val_enc))"
      ],
      "execution_count": null,
      "outputs": [
        {
          "output_type": "stream",
          "name": "stdout",
          "text": [
            "Epoch 1/10\n",
            "69/69 - 2s - loss: 1.5941 - accuracy: 0.6040 - val_loss: 1.0376 - val_accuracy: 0.9182 - 2s/epoch - 23ms/step\n",
            "Epoch 2/10\n",
            "69/69 - 1s - loss: 0.6719 - accuracy: 0.9338 - val_loss: 0.4409 - val_accuracy: 0.9349 - 555ms/epoch - 8ms/step\n",
            "Epoch 3/10\n",
            "69/69 - 1s - loss: 0.3400 - accuracy: 0.9463 - val_loss: 0.2772 - val_accuracy: 0.9439 - 559ms/epoch - 8ms/step\n",
            "Epoch 4/10\n",
            "69/69 - 1s - loss: 0.2265 - accuracy: 0.9545 - val_loss: 0.2114 - val_accuracy: 0.9498 - 602ms/epoch - 9ms/step\n",
            "Epoch 5/10\n",
            "69/69 - 1s - loss: 0.1744 - accuracy: 0.9607 - val_loss: 0.1782 - val_accuracy: 0.9517 - 594ms/epoch - 9ms/step\n",
            "Epoch 6/10\n",
            "69/69 - 1s - loss: 0.1453 - accuracy: 0.9624 - val_loss: 0.1585 - val_accuracy: 0.9537 - 575ms/epoch - 8ms/step\n",
            "Epoch 7/10\n",
            "69/69 - 1s - loss: 0.1271 - accuracy: 0.9639 - val_loss: 0.1455 - val_accuracy: 0.9560 - 590ms/epoch - 9ms/step\n",
            "Epoch 8/10\n",
            "69/69 - 1s - loss: 0.1149 - accuracy: 0.9649 - val_loss: 0.1362 - val_accuracy: 0.9603 - 590ms/epoch - 9ms/step\n",
            "Epoch 9/10\n",
            "69/69 - 1s - loss: 0.1061 - accuracy: 0.9658 - val_loss: 0.1293 - val_accuracy: 0.9604 - 557ms/epoch - 8ms/step\n",
            "Epoch 10/10\n",
            "69/69 - 1s - loss: 0.0997 - accuracy: 0.9667 - val_loss: 0.1237 - val_accuracy: 0.9618 - 584ms/epoch - 8ms/step\n"
          ]
        },
        {
          "output_type": "execute_result",
          "data": {
            "text/plain": [
              "<keras.callbacks.History at 0x7ff4bc79d0d0>"
            ]
          },
          "metadata": {},
          "execution_count": 174
        }
      ]
    },
    {
      "cell_type": "code",
      "metadata": {
        "id": "Ar1l8Q9E61H-"
      },
      "source": [
        "y_pred_proba = model.predict(dict(x_test))\n",
        "y_pred = np.argmax(y_pred_proba, axis=1)"
      ],
      "execution_count": null,
      "outputs": []
    },
    {
      "cell_type": "code",
      "metadata": {
        "colab": {
          "base_uri": "https://localhost:8080/"
        },
        "id": "b-T_k57B7AaM",
        "outputId": "d8dcb092-af4c-49ad-b8fd-4eae0f3bb3dc"
      },
      "source": [
        "print(classification_report(y_test_enc, y_pred))"
      ],
      "execution_count": null,
      "outputs": [
        {
          "output_type": "stream",
          "name": "stdout",
          "text": [
            "              precision    recall  f1-score   support\n",
            "\n",
            "           0       0.95      0.98      0.97      3642\n",
            "           1       1.00      0.36      0.53        33\n",
            "           2       0.81      0.82      0.82      1386\n",
            "           3       0.98      0.98      0.98     18529\n",
            "           4       1.00      0.36      0.53        22\n",
            "           5       0.88      0.86      0.87      1229\n",
            "           6       0.97      0.89      0.93      1131\n",
            "\n",
            "    accuracy                           0.96     25972\n",
            "   macro avg       0.94      0.75      0.80     25972\n",
            "weighted avg       0.96      0.96      0.96     25972\n",
            "\n"
          ]
        }
      ]
    },
    {
      "cell_type": "markdown",
      "source": [
        "* The ANN using embeddings performed well in terms of accuracy and precision across the classes. This ANN has also produced way higher recall scores across the classes besides class 1 and 4 for which it had the same recall scores as the benchmark. This model has outperformed the benchmark model in producing higher recall scores for most classes."
      ],
      "metadata": {
        "id": "NGzYHhPpLO0k"
      }
    },
    {
      "cell_type": "markdown",
      "metadata": {
        "id": "qFqVbbxkLCzh"
      },
      "source": [
        "<a id=\"dnn-onhot-embedding\"></a>\n",
        "## Building a DNN"
      ]
    },
    {
      "cell_type": "markdown",
      "metadata": {
        "id": "i3eMkkM2ECg7"
      },
      "source": [
        "### DNN Using Both One-Hot Encoding and Embedding"
      ]
    },
    {
      "cell_type": "code",
      "metadata": {
        "id": "RTr6M0cKw_Fd"
      },
      "source": [
        "# an input layer is created for each feature, has to be a dictionary because \n",
        "# data is passed as a dictionary and this way it will be mapped to the right input layer\n",
        "def create_inputs():\n",
        "  inputs = {}\n",
        "  for col in x_train.columns:\n",
        "    if col in categorical_features:\n",
        "      inputs[col] = layers.Input(name=col, shape=(), dtype=tf.string)\n",
        "    else:\n",
        "      inputs[col] = layers.Input(name=col, shape=(), dtype=tf.float32)\n",
        "  return inputs"
      ],
      "execution_count": null,
      "outputs": []
    },
    {
      "cell_type": "code",
      "metadata": {
        "id": "O_6YOo5bembZ"
      },
      "source": [
        "def encode_inputs(inputs, use_embedding):\n",
        "  encoded_features = []\n",
        "\n",
        "  for col in x_train.columns:\n",
        "    if col in categorical_features:\n",
        "      vocab = list(data_clean[col].unique()) # getting vocobulary of the feature\n",
        "\n",
        "      # this is a lookup that converts strings to their right integer indices, binary means return one-hot representation\n",
        "      lookup = StringLookup(\n",
        "                  vocabulary=vocab,\n",
        "                  mask_token=None,\n",
        "                  num_oov_indices=0,\n",
        "                  output_mode=\"int\" if use_embedding else \"binary\"\n",
        "              )\n",
        "      \n",
        "      if use_embedding:\n",
        "        encoded_feature = lookup(inputs[col]) # getting the integer index of the string input\n",
        "        embedding_dims = int(math.sqrt(len(vocab)))\n",
        "        embedding = layers.Embedding(input_dim=len(vocab), output_dim=embedding_dims) # creates embedding layer for the feature\n",
        "        encoded_feature = embedding(encoded_feature) # use the layer on the feature, converts index value of the feature to embedding representation\n",
        "      \n",
        "      else:\n",
        "        encoded_feature = lookup(tf.expand_dims(inputs[col], -1)) # get one-hot encoding of feature\n",
        "      \n",
        "      encoded_features.append(encoded_feature)\n",
        "    else:\n",
        "      # if feature is numeric then use as-is\n",
        "      # reshaping because all layers' outputs have to have the same shape and this is the shape the lookup layer outputs\n",
        "      encoded_feature = tf.expand_dims(inputs[col], -1)\n",
        "      encoded_features.append(encoded_feature)\n",
        "\n",
        "  all_features = layers.concatenate(encoded_features)\n",
        "\n",
        "  return all_features"
      ],
      "execution_count": null,
      "outputs": []
    },
    {
      "cell_type": "code",
      "metadata": {
        "id": "4WNdpTo3fUSY"
      },
      "source": [
        "inputs = create_inputs()\n",
        "one_hot_features = encode_inputs(inputs, False)\n",
        "embedded_features = encode_inputs(inputs, True)"
      ],
      "execution_count": null,
      "outputs": []
    },
    {
      "cell_type": "code",
      "metadata": {
        "id": "y8vAN9mc1HGD"
      },
      "source": [
        "wide = Dense(20, activation='relu')(one_hot_features)\n",
        "wide = Dense(10, activation='relu')(wide)\n",
        "wide = Dense(20, activation='relu')(wide)\n",
        "wide = layers.Dropout(0.1)(wide)\n",
        "\n",
        "deep = Dense(20, activation='relu')(embedded_features)\n",
        "deep = Dense(10, activation='relu')(deep)\n",
        "deep = Dense(20, activation='relu')(deep)\n",
        "deep = layers.Dropout(0.1)(deep)\n",
        "\n",
        "merged = layers.concatenate([wide, deep])\n",
        "output = Dense(units=7, activation=\"softmax\")(merged)\n",
        "\n",
        "model = Model(inputs=inputs, outputs=output)"
      ],
      "execution_count": null,
      "outputs": []
    },
    {
      "cell_type": "code",
      "metadata": {
        "colab": {
          "base_uri": "https://localhost:8080/"
        },
        "id": "PJKwJckax_01",
        "outputId": "014d5c78-49f7-4191-aa6d-3eb3604e9951"
      },
      "source": [
        "model.compile(loss='sparse_categorical_crossentropy', optimizer='adam', metrics=['accuracy'])\n",
        "model.fit(dict(x_train), y_train_enc, epochs=20, batch_size=batch, verbose=2, validation_data=(dict(x_val), y_val_enc))"
      ],
      "execution_count": null,
      "outputs": [
        {
          "output_type": "stream",
          "name": "stdout",
          "text": [
            "Epoch 1/20\n",
            "69/69 - 5s - loss: 1.3861 - accuracy: 0.6559 - val_loss: 0.6888 - val_accuracy: 0.7166 - 5s/epoch - 69ms/step\n",
            "Epoch 2/20\n",
            "69/69 - 3s - loss: 0.4593 - accuracy: 0.8285 - val_loss: 0.2130 - val_accuracy: 0.9545 - 3s/epoch - 46ms/step\n",
            "Epoch 3/20\n",
            "69/69 - 3s - loss: 0.1441 - accuracy: 0.9621 - val_loss: 0.1162 - val_accuracy: 0.9644 - 3s/epoch - 45ms/step\n",
            "Epoch 4/20\n",
            "69/69 - 3s - loss: 0.0990 - accuracy: 0.9677 - val_loss: 0.1018 - val_accuracy: 0.9660 - 3s/epoch - 47ms/step\n",
            "Epoch 5/20\n",
            "69/69 - 3s - loss: 0.0861 - accuracy: 0.9702 - val_loss: 0.0948 - val_accuracy: 0.9695 - 3s/epoch - 47ms/step\n",
            "Epoch 6/20\n",
            "69/69 - 3s - loss: 0.0805 - accuracy: 0.9716 - val_loss: 0.0912 - val_accuracy: 0.9682 - 3s/epoch - 47ms/step\n",
            "Epoch 7/20\n",
            "69/69 - 3s - loss: 0.0756 - accuracy: 0.9730 - val_loss: 0.0890 - val_accuracy: 0.9701 - 3s/epoch - 47ms/step\n",
            "Epoch 8/20\n",
            "69/69 - 3s - loss: 0.0722 - accuracy: 0.9734 - val_loss: 0.0867 - val_accuracy: 0.9694 - 3s/epoch - 47ms/step\n",
            "Epoch 9/20\n",
            "69/69 - 3s - loss: 0.0698 - accuracy: 0.9741 - val_loss: 0.0847 - val_accuracy: 0.9711 - 3s/epoch - 47ms/step\n",
            "Epoch 10/20\n",
            "69/69 - 3s - loss: 0.0673 - accuracy: 0.9752 - val_loss: 0.0830 - val_accuracy: 0.9727 - 3s/epoch - 46ms/step\n",
            "Epoch 11/20\n",
            "69/69 - 3s - loss: 0.0646 - accuracy: 0.9758 - val_loss: 0.0818 - val_accuracy: 0.9720 - 3s/epoch - 48ms/step\n",
            "Epoch 12/20\n",
            "69/69 - 3s - loss: 0.0631 - accuracy: 0.9759 - val_loss: 0.0804 - val_accuracy: 0.9723 - 3s/epoch - 47ms/step\n",
            "Epoch 13/20\n",
            "69/69 - 3s - loss: 0.0614 - accuracy: 0.9770 - val_loss: 0.0800 - val_accuracy: 0.9731 - 3s/epoch - 46ms/step\n",
            "Epoch 14/20\n",
            "69/69 - 3s - loss: 0.0593 - accuracy: 0.9770 - val_loss: 0.0789 - val_accuracy: 0.9728 - 3s/epoch - 46ms/step\n",
            "Epoch 15/20\n",
            "69/69 - 3s - loss: 0.0578 - accuracy: 0.9779 - val_loss: 0.0777 - val_accuracy: 0.9736 - 3s/epoch - 47ms/step\n",
            "Epoch 16/20\n",
            "69/69 - 3s - loss: 0.0571 - accuracy: 0.9784 - val_loss: 0.0781 - val_accuracy: 0.9738 - 3s/epoch - 47ms/step\n",
            "Epoch 17/20\n",
            "69/69 - 3s - loss: 0.0553 - accuracy: 0.9788 - val_loss: 0.0756 - val_accuracy: 0.9743 - 3s/epoch - 46ms/step\n",
            "Epoch 18/20\n",
            "69/69 - 3s - loss: 0.0548 - accuracy: 0.9788 - val_loss: 0.0770 - val_accuracy: 0.9734 - 3s/epoch - 46ms/step\n",
            "Epoch 19/20\n",
            "69/69 - 3s - loss: 0.0534 - accuracy: 0.9790 - val_loss: 0.0766 - val_accuracy: 0.9739 - 3s/epoch - 46ms/step\n",
            "Epoch 20/20\n",
            "69/69 - 3s - loss: 0.0569 - accuracy: 0.9777 - val_loss: 0.0759 - val_accuracy: 0.9741 - 3s/epoch - 45ms/step\n"
          ]
        },
        {
          "output_type": "execute_result",
          "data": {
            "text/plain": [
              "<keras.callbacks.History at 0x7ff4bcff0b10>"
            ]
          },
          "metadata": {},
          "execution_count": 181
        }
      ]
    },
    {
      "cell_type": "code",
      "metadata": {
        "colab": {
          "base_uri": "https://localhost:8080/"
        },
        "id": "bHOb-IgwhyCu",
        "outputId": "9f8fb3e0-66cb-4ef2-fa9d-1859661fe6b6"
      },
      "source": [
        "y_pred_proba = model.predict(dict(x_test))\n",
        "y_pred = np.argmax(y_pred_proba, axis=1)\n",
        "print(classification_report(y_test_enc, y_pred))"
      ],
      "execution_count": null,
      "outputs": [
        {
          "output_type": "stream",
          "name": "stdout",
          "text": [
            "              precision    recall  f1-score   support\n",
            "\n",
            "           0       0.96      0.99      0.98      3642\n",
            "           1       1.00      0.61      0.75        33\n",
            "           2       0.89      0.85      0.87      1386\n",
            "           3       0.99      0.99      0.99     18529\n",
            "           4       0.92      0.50      0.65        22\n",
            "           5       0.89      0.92      0.91      1229\n",
            "           6       0.99      0.99      0.99      1131\n",
            "\n",
            "    accuracy                           0.98     25972\n",
            "   macro avg       0.95      0.83      0.88     25972\n",
            "weighted avg       0.98      0.98      0.98     25972\n",
            "\n"
          ]
        }
      ]
    },
    {
      "cell_type": "markdown",
      "source": [
        "* The DNN model which uses both one-hot encoding and embeddings has outperformed all models. It has produced high precision, recall and accuracy scores. Its precision across the classes is only slightly worse than that of the benchmark and is higher than that of other ANNs. Its recall scores are the best recorded so far."
      ],
      "metadata": {
        "id": "pwEk3utoLb9M"
      }
    },
    {
      "cell_type": "markdown",
      "metadata": {
        "id": "C4R4wv5nDqbh"
      },
      "source": [
        "<a id=\"dnn-hyperparam-tuning\"></a>\n",
        "### Hyperparameter Tuning"
      ]
    },
    {
      "cell_type": "code",
      "metadata": {
        "colab": {
          "base_uri": "https://localhost:8080/"
        },
        "id": "sQpX4doD9yvj",
        "outputId": "444f1263-7c54-4413-dda6-a74d017c388a"
      },
      "source": [
        "data_clean['DEMIL Code'].value_counts()/len(data_clean)*100"
      ],
      "execution_count": null,
      "outputs": [
        {
          "output_type": "execute_result",
          "data": {
            "text/plain": [
              "D    71.364875\n",
              "A    13.992207\n",
              "C     5.359701\n",
              "F     4.727472\n",
              "Q     4.326264\n",
              "B     0.119361\n",
              "E     0.110120\n",
              "Name: DEMIL Code, dtype: float64"
            ]
          },
          "metadata": {},
          "execution_count": 183
        }
      ]
    },
    {
      "cell_type": "code",
      "metadata": {
        "colab": {
          "base_uri": "https://localhost:8080/"
        },
        "id": "3x9uwRKBMu4x",
        "outputId": "51142d8f-e04c-45ae-fd9c-01213eeba0f2"
      },
      "source": [
        "le.classes_"
      ],
      "execution_count": null,
      "outputs": [
        {
          "output_type": "execute_result",
          "data": {
            "text/plain": [
              "array(['A', 'B', 'C', 'D', 'E', 'F', 'Q'], dtype=object)"
            ]
          },
          "metadata": {},
          "execution_count": 184
        }
      ]
    },
    {
      "cell_type": "code",
      "metadata": {
        "id": "Zsf3j0i873NR"
      },
      "source": [
        "class_weight = {0:(1/13.983109) , 1:(1/0.119122), 2:(1/5.354388), 3:(1/71.380137), 4:(1/0.109959), 5:(1/4.732815), 6:(1/4.320469)}"
      ],
      "execution_count": null,
      "outputs": []
    },
    {
      "cell_type": "code",
      "metadata": {
        "colab": {
          "base_uri": "https://localhost:8080/"
        },
        "id": "qhz5CxtK5dHW",
        "outputId": "d8069a0b-60e1-4932-f35b-e1df094f7350"
      },
      "source": [
        "model.compile(loss='sparse_categorical_crossentropy', optimizer='adam', metrics=['accuracy'])\n",
        "model.fit(dict(x_train), y_train_enc, epochs=20, batch_size=batch, verbose=2, validation_data=(dict(x_val), y_val_enc), class_weight=class_weight)"
      ],
      "execution_count": null,
      "outputs": [
        {
          "output_type": "stream",
          "name": "stdout",
          "text": [
            "Epoch 1/20\n",
            "69/69 - 5s - loss: 0.0140 - accuracy: 0.9650 - val_loss: 0.1376 - val_accuracy: 0.9486 - 5s/epoch - 70ms/step\n",
            "Epoch 2/20\n",
            "69/69 - 3s - loss: 0.0083 - accuracy: 0.9591 - val_loss: 0.1426 - val_accuracy: 0.9501 - 3s/epoch - 47ms/step\n",
            "Epoch 3/20\n",
            "69/69 - 3s - loss: 0.0076 - accuracy: 0.9590 - val_loss: 0.1463 - val_accuracy: 0.9477 - 3s/epoch - 47ms/step\n",
            "Epoch 4/20\n",
            "69/69 - 3s - loss: 0.0066 - accuracy: 0.9591 - val_loss: 0.1352 - val_accuracy: 0.9521 - 3s/epoch - 46ms/step\n",
            "Epoch 5/20\n",
            "69/69 - 3s - loss: 0.0063 - accuracy: 0.9603 - val_loss: 0.1340 - val_accuracy: 0.9519 - 3s/epoch - 46ms/step\n",
            "Epoch 6/20\n",
            "69/69 - 3s - loss: 0.0059 - accuracy: 0.9617 - val_loss: 0.1393 - val_accuracy: 0.9527 - 3s/epoch - 46ms/step\n",
            "Epoch 7/20\n",
            "69/69 - 3s - loss: 0.0059 - accuracy: 0.9618 - val_loss: 0.1571 - val_accuracy: 0.9447 - 3s/epoch - 46ms/step\n",
            "Epoch 8/20\n",
            "69/69 - 3s - loss: 0.0053 - accuracy: 0.9612 - val_loss: 0.1427 - val_accuracy: 0.9498 - 3s/epoch - 47ms/step\n",
            "Epoch 9/20\n",
            "69/69 - 3s - loss: 0.0055 - accuracy: 0.9621 - val_loss: 0.1379 - val_accuracy: 0.9545 - 3s/epoch - 47ms/step\n",
            "Epoch 10/20\n",
            "69/69 - 3s - loss: 0.0052 - accuracy: 0.9636 - val_loss: 0.1396 - val_accuracy: 0.9527 - 3s/epoch - 46ms/step\n",
            "Epoch 11/20\n",
            "69/69 - 3s - loss: 0.0054 - accuracy: 0.9634 - val_loss: 0.1340 - val_accuracy: 0.9542 - 3s/epoch - 46ms/step\n",
            "Epoch 12/20\n",
            "69/69 - 3s - loss: 0.0050 - accuracy: 0.9640 - val_loss: 0.1318 - val_accuracy: 0.9562 - 3s/epoch - 46ms/step\n",
            "Epoch 13/20\n",
            "69/69 - 3s - loss: 0.0050 - accuracy: 0.9644 - val_loss: 0.1386 - val_accuracy: 0.9530 - 3s/epoch - 46ms/step\n",
            "Epoch 14/20\n",
            "69/69 - 3s - loss: 0.0049 - accuracy: 0.9647 - val_loss: 0.1317 - val_accuracy: 0.9569 - 3s/epoch - 45ms/step\n",
            "Epoch 15/20\n",
            "69/69 - 3s - loss: 0.0049 - accuracy: 0.9654 - val_loss: 0.1382 - val_accuracy: 0.9557 - 3s/epoch - 45ms/step\n",
            "Epoch 16/20\n",
            "69/69 - 3s - loss: 0.0049 - accuracy: 0.9653 - val_loss: 0.1370 - val_accuracy: 0.9570 - 3s/epoch - 47ms/step\n",
            "Epoch 17/20\n",
            "69/69 - 3s - loss: 0.0044 - accuracy: 0.9662 - val_loss: 0.1393 - val_accuracy: 0.9557 - 3s/epoch - 48ms/step\n",
            "Epoch 18/20\n",
            "69/69 - 3s - loss: 0.0045 - accuracy: 0.9666 - val_loss: 0.1334 - val_accuracy: 0.9566 - 3s/epoch - 50ms/step\n",
            "Epoch 19/20\n",
            "69/69 - 3s - loss: 0.0044 - accuracy: 0.9665 - val_loss: 0.1400 - val_accuracy: 0.9555 - 3s/epoch - 50ms/step\n",
            "Epoch 20/20\n",
            "69/69 - 3s - loss: 0.0045 - accuracy: 0.9652 - val_loss: 0.1289 - val_accuracy: 0.9585 - 3s/epoch - 47ms/step\n"
          ]
        },
        {
          "output_type": "execute_result",
          "data": {
            "text/plain": [
              "<keras.callbacks.History at 0x7ff4bcb45b50>"
            ]
          },
          "metadata": {},
          "execution_count": 186
        }
      ]
    },
    {
      "cell_type": "code",
      "metadata": {
        "colab": {
          "base_uri": "https://localhost:8080/"
        },
        "id": "dDVdpY_BiOYN",
        "outputId": "77e75eeb-f9fc-40c0-a6d0-81d0af15fea1"
      },
      "source": [
        "y_pred_proba = model.predict(dict(x_test))\n",
        "y_pred = np.argmax(y_pred_proba, axis=1)\n",
        "print(classification_report(y_test_enc, y_pred))"
      ],
      "execution_count": null,
      "outputs": [
        {
          "output_type": "stream",
          "name": "stdout",
          "text": [
            "              precision    recall  f1-score   support\n",
            "\n",
            "           0       0.97      0.97      0.97      3642\n",
            "           1       0.16      0.88      0.27        33\n",
            "           2       0.74      0.91      0.82      1386\n",
            "           3       1.00      0.96      0.98     18529\n",
            "           4       0.28      0.64      0.39        22\n",
            "           5       0.84      0.98      0.91      1229\n",
            "           6       0.99      0.98      0.99      1131\n",
            "\n",
            "    accuracy                           0.96     25972\n",
            "   macro avg       0.71      0.90      0.76     25972\n",
            "weighted avg       0.97      0.96      0.96     25972\n",
            "\n"
          ]
        }
      ]
    },
    {
      "cell_type": "markdown",
      "source": [
        "* Using the custom class weights has significantly improved the DNN's recall scores for the underrepresented classes 1 and 4 to be like those of the other classes. That came at the cost of worsening precision."
      ],
      "metadata": {
        "id": "UyFEPkrcLjok"
      }
    },
    {
      "cell_type": "markdown",
      "source": [
        "<a id=\"conclusion\"></a>\n",
        "# Conclusion\n",
        "\n",
        "Predicting the DEMIL Code is an output sensitive problem where it is more important to have less false negatives than it is to have less false positives. For example, since DEMIL Code ‘B’ means mutilation to the\n",
        "point of scrap is required worldwide, falsely predicting that a DEMIL Code is ‘B’ (false positive) is less bad than falsely predicting an actual DEMIL Code ‘B’ as another code (false negative) that could potentially\n",
        "represent a lower demilitarization degree. Because of that, having higher recall scores is more important and thus the DNN which uses both one-hot encoding and embeddings and custom class weights is the best performing model."
      ],
      "metadata": {
        "id": "tO0sAVZRMpXw"
      }
    }
  ]
}